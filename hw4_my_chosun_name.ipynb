{
 "cells": [
  {
   "cell_type": "code",
   "execution_count": 1,
   "id": "f03aaf88",
   "metadata": {},
   "outputs": [
    {
     "name": "stdout",
     "output_type": "stream",
     "text": [
      "['쌍', '쇠', '복', '돌', '팽', '육', '쌍', '개', '칠', '갑', '삼', '방']\n"
     ]
    }
   ],
   "source": [
    "# 1, 출력결과 1\n",
    "birth_month = ['쌍', '쇠', '복', '돌', '팽', '육', '쌍', '개', '칠', '갑', '삼', '방']\n",
    "print(birth_month)"
   ]
  },
  {
   "cell_type": "code",
   "execution_count": 2,
   "id": "ad6b0d7f",
   "metadata": {},
   "outputs": [
    {
     "name": "stdout",
     "output_type": "stream",
     "text": [
      "['봉', '구', '욕', '포', '똥', '삼', '식', '석', '놈', '님', '년', '돌', '단', '득', '방', '질', '장', '걸', '래', '룡', '동', '순', '자', '박', '창', '언', '것', '포', '만', '단', '국']\n"
     ]
    }
   ],
   "source": [
    "# 2, 출력결과 2\n",
    "birth_day = ['봉', '구', '욕', '포', '똥', '삼', '식', '석', '놈', '님',\n",
    "             '년', '돌', '단', '득', '방', '질', '장', '걸', '래', '룡',\n",
    "             '동', '순', '자', '박', '창', '언', '것', '포', '만', '단', '국']\n",
    "print(birth_day)"
   ]
  },
  {
   "cell_type": "code",
   "execution_count": 3,
   "id": "d71463f2",
   "metadata": {},
   "outputs": [],
   "source": [
    "# 3\n",
    "def get_my_chosun_name(family_name, month, day) :\n",
    "    print(f\"당신의 조선시대 이름은 {family_name}{birth_month[month-1]}{birth_day[day-1]} 입니다.\")"
   ]
  },
  {
   "cell_type": "code",
   "execution_count": 4,
   "id": "fd38d302",
   "metadata": {},
   "outputs": [
    {
     "name": "stdout",
     "output_type": "stream",
     "text": [
      "당신의 조선시대 이름은 임쌍똥 입니다.\n"
     ]
    }
   ],
   "source": [
    "# 4, 출력결과 3\n",
    "get_my_chosun_name('임', 1, 5)"
   ]
  }
 ],
 "metadata": {
  "kernelspec": {
   "display_name": "Python 3 (ipykernel)",
   "language": "python",
   "name": "python3"
  },
  "language_info": {
   "codemirror_mode": {
    "name": "ipython",
    "version": 3
   },
   "file_extension": ".py",
   "mimetype": "text/x-python",
   "name": "python",
   "nbconvert_exporter": "python",
   "pygments_lexer": "ipython3",
   "version": "3.9.7"
  }
 },
 "nbformat": 4,
 "nbformat_minor": 5
}
