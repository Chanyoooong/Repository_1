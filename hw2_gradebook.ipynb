{
 "cells": [
  {
   "cell_type": "code",
   "execution_count": 1,
   "id": "d36da337",
   "metadata": {},
   "outputs": [],
   "source": [
    "# 1\n",
    "subjects = [\"physics\",\"calculus\",\"poetry\",\"history\"]\n",
    "\n",
    "# print(subjects)"
   ]
  },
  {
   "cell_type": "code",
   "execution_count": 2,
   "id": "eb1434b2",
   "metadata": {},
   "outputs": [],
   "source": [
    "# 2\n",
    "grades = [98,97,85,88]\n",
    "\n",
    "# print(grades)"
   ]
  },
  {
   "cell_type": "code",
   "execution_count": 3,
   "id": "d3e627e5",
   "metadata": {},
   "outputs": [],
   "source": [
    "# 3\n",
    "gradebook = [[subjects[i],grades[i]] for i in  range(len(subjects))]"
   ]
  },
  {
   "cell_type": "code",
   "execution_count": 4,
   "id": "20a0b663",
   "metadata": {},
   "outputs": [
    {
     "name": "stdout",
     "output_type": "stream",
     "text": [
      "[['physics', 98], ['calculus', 97], ['poetry', 85], ['history', 88]]\n"
     ]
    }
   ],
   "source": [
    "# 4, out 1\n",
    "print(gradebook)"
   ]
  },
  {
   "cell_type": "code",
   "execution_count": 5,
   "id": "28a68ff2",
   "metadata": {},
   "outputs": [],
   "source": [
    "# 5\n",
    "gradebook.append([\"computer science\",100])\n",
    "# print(gradebook)"
   ]
  },
  {
   "cell_type": "code",
   "execution_count": 6,
   "id": "3761eb8c",
   "metadata": {},
   "outputs": [
    {
     "name": "stdout",
     "output_type": "stream",
     "text": [
      "[['physics', 98], ['calculus', 97], ['poetry', 85], ['history', 88], ['computer science', 100], ['visual art', 93]]\n"
     ]
    }
   ],
   "source": [
    "# 6, out 2\n",
    "gradebook.append([\"visual art\",93])\n",
    "print(gradebook)"
   ]
  },
  {
   "cell_type": "code",
   "execution_count": 7,
   "id": "86ad4370",
   "metadata": {},
   "outputs": [],
   "source": [
    "# 7\n",
    "gradebook[5][1] += 5"
   ]
  },
  {
   "cell_type": "code",
   "execution_count": 8,
   "id": "4436acd0",
   "metadata": {},
   "outputs": [],
   "source": [
    "# 8\n",
    "gradebook[2].remove(85)\n",
    "# print(gradebook)"
   ]
  },
  {
   "cell_type": "code",
   "execution_count": 9,
   "id": "434dfff4",
   "metadata": {},
   "outputs": [
    {
     "name": "stdout",
     "output_type": "stream",
     "text": [
      "[['physics', 98], ['calculus', 97], ['poetry', 'pass'], ['history', 88], ['computer science', 100], ['visual art', 98]]\n"
     ]
    }
   ],
   "source": [
    "# 9, out 3\n",
    "gradebook[2].append(\"pass\")\n",
    "print(gradebook)"
   ]
  },
  {
   "cell_type": "code",
   "execution_count": 10,
   "id": "6314df88",
   "metadata": {},
   "outputs": [
    {
     "name": "stdout",
     "output_type": "stream",
     "text": [
      "[['politics', 80], ['latin', 96], ['dance', 97], ['architecture', 65], ['physics', 98], ['calculus', 97], ['poetry', 'pass'], ['history', 88], ['computer science', 100], ['visual art', 98]]\n"
     ]
    }
   ],
   "source": [
    "# 10, out 4\n",
    "last_semester_gradebook = [[\"politics\", 80], [\"latin\", 96], [\"dance\", 97], [\"architecture\", 65]]\n",
    "\n",
    "full_gradebook = last_semester_gradebook + gradebook\n",
    "\n",
    "print(full_gradebook)"
   ]
  },
  {
   "cell_type": "code",
   "execution_count": null,
   "id": "f6b6e5c7",
   "metadata": {},
   "outputs": [],
   "source": []
  }
 ],
 "metadata": {
  "kernelspec": {
   "display_name": "Python 3 (ipykernel)",
   "language": "python",
   "name": "python3"
  },
  "language_info": {
   "codemirror_mode": {
    "name": "ipython",
    "version": 3
   },
   "file_extension": ".py",
   "mimetype": "text/x-python",
   "name": "python",
   "nbconvert_exporter": "python",
   "pygments_lexer": "ipython3",
   "version": "3.9.7"
  }
 },
 "nbformat": 4,
 "nbformat_minor": 5
}
