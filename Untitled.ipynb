{
 "cells": [
  {
   "cell_type": "code",
   "execution_count": 1,
   "id": "6f70c6b5",
   "metadata": {},
   "outputs": [
    {
     "name": "stdout",
     "output_type": "stream",
     "text": [
      "Lovely Loveseat. Tufted polyester blend on wood. 32 inches high x 40 inches wide x 30 inches deep. Red or white.\n"
     ]
    }
   ],
   "source": [
    "lovely_loveseat_description = 'Lovely Loveseat. Tufted polyester blend on wood. 32 inches high x 40 inches wide x 30 inches deep. Red or white.'\n",
    "print(lovely_loveseat_description)"
   ]
  },
  {
   "cell_type": "code",
   "execution_count": 2,
   "id": "2e317360",
   "metadata": {},
   "outputs": [],
   "source": [
    "lovely_loveseat_price = 254.00"
   ]
  },
  {
   "cell_type": "code",
   "execution_count": 3,
   "id": "7324e4f4",
   "metadata": {},
   "outputs": [
    {
     "name": "stdout",
     "output_type": "stream",
     "text": [
      "Stylish Settee. Faux leather on birch. 29.50 inches high x 54.75 inches wide x 28 inches deep. Black.\n"
     ]
    }
   ],
   "source": [
    "stylish_settee_description = 'Stylish Settee. Faux leather on birch. 29.50 inches high x 54.75 inches wide x 28 inches deep. Black.'\n",
    "print(stylish_settee_description)"
   ]
  },
  {
   "cell_type": "code",
   "execution_count": 4,
   "id": "a4803c53",
   "metadata": {},
   "outputs": [],
   "source": [
    "stylish_settee_price = 180.50"
   ]
  },
  {
   "cell_type": "code",
   "execution_count": 5,
   "id": "1a75a70c",
   "metadata": {},
   "outputs": [
    {
     "name": "stdout",
     "output_type": "stream",
     "text": [
      "Luxurious Lamp. Glass and iron. 36 inches tall. Brown with cream shade.\n"
     ]
    }
   ],
   "source": [
    "luxurious_lamp_description = 'Luxurious Lamp. Glass and iron. 36 inches tall. Brown with cream shade.'\n",
    "print(luxurious_lamp_description)"
   ]
  },
  {
   "cell_type": "code",
   "execution_count": 6,
   "id": "be146c70",
   "metadata": {},
   "outputs": [],
   "source": [
    "luxurious_lamp_price = 52.15"
   ]
  },
  {
   "cell_type": "code",
   "execution_count": 7,
   "id": "e3661f1f",
   "metadata": {},
   "outputs": [],
   "source": [
    "sales_tax = 0.088"
   ]
  },
  {
   "cell_type": "code",
   "execution_count": 8,
   "id": "8e407a69",
   "metadata": {},
   "outputs": [],
   "source": [
    "customer_one_total = 0.0"
   ]
  },
  {
   "cell_type": "code",
   "execution_count": 9,
   "id": "fe614f94",
   "metadata": {},
   "outputs": [],
   "source": [
    "customer_one_itemization = ''"
   ]
  },
  {
   "cell_type": "code",
   "execution_count": 10,
   "id": "218f5d2c",
   "metadata": {},
   "outputs": [],
   "source": [
    "customer_one_total += lovely_loveseat_price"
   ]
  },
  {
   "cell_type": "code",
   "execution_count": 11,
   "id": "4117725e",
   "metadata": {},
   "outputs": [],
   "source": [
    "customer_one_itemization += lovely_loveseat_description"
   ]
  },
  {
   "cell_type": "code",
   "execution_count": 12,
   "id": "897aa9e6",
   "metadata": {},
   "outputs": [],
   "source": [
    "customer_one_total += luxurious_lamp_price"
   ]
  },
  {
   "cell_type": "code",
   "execution_count": 13,
   "id": "fd5e7a03",
   "metadata": {},
   "outputs": [],
   "source": [
    "customer_one_itemization += luxurious_lamp_description"
   ]
  },
  {
   "cell_type": "code",
   "execution_count": 14,
   "id": "4d7c3a2d",
   "metadata": {},
   "outputs": [],
   "source": [
    "customer_one_tax = customer_one_total * sales_tax"
   ]
  },
  {
   "cell_type": "code",
   "execution_count": 15,
   "id": "b56fbe58",
   "metadata": {},
   "outputs": [],
   "source": [
    "customer_one_total += customer_one_tax"
   ]
  },
  {
   "cell_type": "code",
   "execution_count": 16,
   "id": "a9073092",
   "metadata": {},
   "outputs": [
    {
     "name": "stdout",
     "output_type": "stream",
     "text": [
      "Customer One Items:\n"
     ]
    }
   ],
   "source": [
    "print(\"Customer One Items:\")"
   ]
  },
  {
   "cell_type": "code",
   "execution_count": 17,
   "id": "d481d934",
   "metadata": {},
   "outputs": [
    {
     "name": "stdout",
     "output_type": "stream",
     "text": [
      "Lovely Loveseat. Tufted polyester blend on wood. 32 inches high x 40 inches wide x 30 inches deep. Red or white.Luxurious Lamp. Glass and iron. 36 inches tall. Brown with cream shade.\n"
     ]
    }
   ],
   "source": [
    "print(customer_one_itemization)"
   ]
  },
  {
   "cell_type": "code",
   "execution_count": 18,
   "id": "eb8899bd",
   "metadata": {},
   "outputs": [
    {
     "name": "stdout",
     "output_type": "stream",
     "text": [
      "Customer One Total:\n"
     ]
    }
   ],
   "source": [
    "print(\"Customer One Total:\")"
   ]
  },
  {
   "cell_type": "code",
   "execution_count": 19,
   "id": "baff9408",
   "metadata": {},
   "outputs": [
    {
     "name": "stdout",
     "output_type": "stream",
     "text": [
      "333.09119999999996\n"
     ]
    }
   ],
   "source": [
    "print(customer_one_total)"
   ]
  },
  {
   "cell_type": "code",
   "execution_count": null,
   "id": "c01f8c13",
   "metadata": {},
   "outputs": [],
   "source": []
  }
 ],
 "metadata": {
  "kernelspec": {
   "display_name": "Python 3 (ipykernel)",
   "language": "python",
   "name": "python3"
  },
  "language_info": {
   "codemirror_mode": {
    "name": "ipython",
    "version": 3
   },
   "file_extension": ".py",
   "mimetype": "text/x-python",
   "name": "python",
   "nbconvert_exporter": "python",
   "pygments_lexer": "ipython3",
   "version": "3.9.7"
  }
 },
 "nbformat": 4,
 "nbformat_minor": 5
}
