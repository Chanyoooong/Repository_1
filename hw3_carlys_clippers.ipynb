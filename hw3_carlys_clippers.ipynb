{
 "cells": [
  {
   "cell_type": "code",
   "execution_count": 1,
   "id": "7f50ab1d",
   "metadata": {},
   "outputs": [],
   "source": [
    "# 세팅\n",
    "hairstyles = [\"bouffant\", \"pixie\", \"dreadlocks\", \"crew\", \"bowl\", \"bob\", \"mohawk\", \"flattop\"]\n",
    "prices = [30, 25, 40, 20, 20, 35, 50, 35]\n",
    "last_week = [2, 3, 5, 8, 4, 4, 6, 2]"
   ]
  },
  {
   "cell_type": "code",
   "execution_count": 2,
   "id": "3a728c4d",
   "metadata": {},
   "outputs": [],
   "source": [
    "# 1\n",
    "total_price = 0"
   ]
  },
  {
   "cell_type": "code",
   "execution_count": 3,
   "id": "5877b4f2",
   "metadata": {},
   "outputs": [],
   "source": [
    "# 2\n",
    "for i in range(len(prices)) :\n",
    "    total_price += prices[i]\n",
    "\n",
    "# print(total_price)"
   ]
  },
  {
   "cell_type": "code",
   "execution_count": 4,
   "id": "1594a6e5",
   "metadata": {},
   "outputs": [],
   "source": [
    "# 3\n",
    "average_price = total_price / len(prices)"
   ]
  },
  {
   "cell_type": "code",
   "execution_count": 5,
   "id": "71933c86",
   "metadata": {},
   "outputs": [
    {
     "name": "stdout",
     "output_type": "stream",
     "text": [
      "Average price is : 31.875\n"
     ]
    }
   ],
   "source": [
    "# 4\n",
    "print(f\"Average price is : {average_price}\")"
   ]
  },
  {
   "cell_type": "code",
   "execution_count": 6,
   "id": "998c0620",
   "metadata": {},
   "outputs": [],
   "source": [
    "# 5\n",
    "new_prices = [price - 5 for price in prices]"
   ]
  },
  {
   "cell_type": "code",
   "execution_count": 7,
   "id": "ed9083a2",
   "metadata": {},
   "outputs": [
    {
     "name": "stdout",
     "output_type": "stream",
     "text": [
      "[25, 20, 35, 15, 15, 30, 45, 30]\n"
     ]
    }
   ],
   "source": [
    "# 6\n",
    "print(new_prices)"
   ]
  },
  {
   "cell_type": "code",
   "execution_count": 8,
   "id": "e6e0bed8",
   "metadata": {},
   "outputs": [],
   "source": [
    "# 7\n",
    "total_revenue = 0"
   ]
  },
  {
   "cell_type": "code",
   "execution_count": 9,
   "id": "e3547c5c",
   "metadata": {},
   "outputs": [],
   "source": [
    "# 8, 9\n",
    "for i in range(len(hairstyles)) :\n",
    "    total_revenue += prices[i] * last_week[i]"
   ]
  },
  {
   "cell_type": "code",
   "execution_count": 10,
   "id": "1992819d",
   "metadata": {},
   "outputs": [
    {
     "name": "stdout",
     "output_type": "stream",
     "text": [
      "1085\n"
     ]
    }
   ],
   "source": [
    "# 10\n",
    "print(total_revenue)"
   ]
  },
  {
   "cell_type": "code",
   "execution_count": 11,
   "id": "a99378f7",
   "metadata": {},
   "outputs": [
    {
     "name": "stdout",
     "output_type": "stream",
     "text": [
      "Average daily revenue is 155.0\n"
     ]
    }
   ],
   "source": [
    "# 11\n",
    "average_daily_revenue = total_revenue / 7\n",
    "print(f\"Average daily revenue is {average_daily_revenue}\")"
   ]
  },
  {
   "cell_type": "code",
   "execution_count": 12,
   "id": "9ed8ee0d",
   "metadata": {},
   "outputs": [],
   "source": [
    "# 12\n",
    "cuts_under_30 = [hairstyles[i] for i in range(len(new_prices) - 1) if new_prices[i] < 30]"
   ]
  },
  {
   "cell_type": "code",
   "execution_count": 13,
   "id": "9a936061",
   "metadata": {},
   "outputs": [
    {
     "name": "stdout",
     "output_type": "stream",
     "text": [
      "['bouffant', 'pixie', 'crew', 'bowl']\n"
     ]
    }
   ],
   "source": [
    "# 13\n",
    "print(cuts_under_30)"
   ]
  }
 ],
 "metadata": {
  "kernelspec": {
   "display_name": "Python 3 (ipykernel)",
   "language": "python",
   "name": "python3"
  },
  "language_info": {
   "codemirror_mode": {
    "name": "ipython",
    "version": 3
   },
   "file_extension": ".py",
   "mimetype": "text/x-python",
   "name": "python",
   "nbconvert_exporter": "python",
   "pygments_lexer": "ipython3",
   "version": "3.9.7"
  }
 },
 "nbformat": 4,
 "nbformat_minor": 5
}
