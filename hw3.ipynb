{
 "cells": [
  {
   "cell_type": "code",
   "execution_count": 1,
   "id": "7df7ddf9",
   "metadata": {},
   "outputs": [],
   "source": [
    "# 세팅\n",
    "hairstyles = [\"bouffant\", \"pixie\", \"dreadlocks\", \"crew\", \"bowl\", \"bob\", \"mohawk\", \"flattop\"]\n",
    "prices = [30, 25, 40, 20, 20, 35, 50, 35]\n",
    "last_week = [2, 3, 5, 8, 4, 4, 6, 2]"
   ]
  },
  {
   "cell_type": "code",
   "execution_count": 2,
   "id": "56eb1641",
   "metadata": {},
   "outputs": [],
   "source": [
    "# 1\n",
    "total_price = 0"
   ]
  },
  {
   "cell_type": "code",
   "execution_count": 3,
   "id": "c0806b3f",
   "metadata": {},
   "outputs": [],
   "source": [
    "# 2\n",
    "for i in range(len(prices)) :\n",
    "    total_price += prices[i]\n",
    "\n",
    "# print(total_price)"
   ]
  },
  {
   "cell_type": "code",
   "execution_count": 4,
   "id": "f4a89868",
   "metadata": {},
   "outputs": [],
   "source": [
    "# 3\n",
    "average_price = total_price / len(prices)"
   ]
  },
  {
   "cell_type": "code",
   "execution_count": 5,
   "id": "4ce13024",
   "metadata": {},
   "outputs": [
    {
     "name": "stdout",
     "output_type": "stream",
     "text": [
      "Average price is : 31.875\n"
     ]
    }
   ],
   "source": [
    "# 4\n",
    "print(f\"Average price is : {average_price}\")"
   ]
  },
  {
   "cell_type": "code",
   "execution_count": 6,
   "id": "cfecec6a",
   "metadata": {},
   "outputs": [],
   "source": [
    "# 5\n",
    "new_prices = [price - 5 for price in prices]"
   ]
  },
  {
   "cell_type": "code",
   "execution_count": 7,
   "id": "5f46787d",
   "metadata": {},
   "outputs": [
    {
     "name": "stdout",
     "output_type": "stream",
     "text": [
      "[25, 20, 35, 15, 15, 30, 45, 30]\n"
     ]
    }
   ],
   "source": [
    "# 6\n",
    "print(new_prices)"
   ]
  },
  {
   "cell_type": "code",
   "execution_count": 8,
   "id": "93277152",
   "metadata": {},
   "outputs": [],
   "source": [
    "# 7\n",
    "total_revenue = 0"
   ]
  },
  {
   "cell_type": "code",
   "execution_count": 9,
   "id": "017a09c1",
   "metadata": {},
   "outputs": [],
   "source": [
    "# 8, 9\n",
    "for i in range(len(hairstyles)) :\n",
    "    total_revenue += prices[i] * last_week[i]"
   ]
  },
  {
   "cell_type": "code",
   "execution_count": 10,
   "id": "8a002aff",
   "metadata": {},
   "outputs": [
    {
     "name": "stdout",
     "output_type": "stream",
     "text": [
      "1085\n"
     ]
    }
   ],
   "source": [
    "# 10\n",
    "print(total_revenue)"
   ]
  },
  {
   "cell_type": "code",
   "execution_count": 11,
   "id": "20d9d9c5",
   "metadata": {},
   "outputs": [
    {
     "name": "stdout",
     "output_type": "stream",
     "text": [
      "Average daily revenue is 155.0\n"
     ]
    }
   ],
   "source": [
    "# 11\n",
    "average_daily_revenue = total_revenue / 7\n",
    "print(f\"Average daily revenue is {average_daily_revenue}\")"
   ]
  },
  {
   "cell_type": "code",
   "execution_count": 12,
   "id": "40a64636",
   "metadata": {},
   "outputs": [],
   "source": [
    "# 12\n",
    "cuts_under_30 = [hairstyles[i] for i in range(len(new_prices) - 1) if new_prices[i] < 30]"
   ]
  },
  {
   "cell_type": "code",
   "execution_count": null,
   "id": "bb38e364",
   "metadata": {},
   "outputs": [],
   "source": [
    "# 13\n",
    "print(cuts_under_30)"
   ]
  }
 ],
 "metadata": {
  "kernelspec": {
   "display_name": "Python 3 (ipykernel)",
   "language": "python",
   "name": "python3"
  },
  "language_info": {
   "codemirror_mode": {
    "name": "ipython",
    "version": 3
   },
   "file_extension": ".py",
   "mimetype": "text/x-python",
   "name": "python",
   "nbconvert_exporter": "python",
   "pygments_lexer": "ipython3",
   "version": "3.9.7"
  }
 },
 "nbformat": 4,
 "nbformat_minor": 5
}
